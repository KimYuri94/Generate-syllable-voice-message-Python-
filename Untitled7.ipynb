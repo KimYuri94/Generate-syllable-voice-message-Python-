{
  "nbformat": 4,
  "nbformat_minor": 0,
  "metadata": {
    "colab": {
      "provenance": [],
      "authorship_tag": "ABX9TyNUUomnX7PrPd5DtHeey6ZB",
      "include_colab_link": true
    },
    "kernelspec": {
      "name": "python3",
      "display_name": "Python 3"
    },
    "language_info": {
      "name": "python"
    }
  },
  "cells": [
    {
      "cell_type": "markdown",
      "metadata": {
        "id": "view-in-github",
        "colab_type": "text"
      },
      "source": [
        "<a href=\"https://colab.research.google.com/github/KimYuri94/Generate-syllable-voice-message-Python-/blob/main/Untitled7.ipynb\" target=\"_parent\"><img src=\"https://colab.research.google.com/assets/colab-badge.svg\" alt=\"Open In Colab\"/></a>"
      ]
    },
    {
      "cell_type": "code",
      "execution_count": null,
      "metadata": {
        "id": "fiYbkDSvPlpv"
      },
      "outputs": [],
      "source": [
        "pip install pyttsx3"
      ]
    },
    {
      "cell_type": "code",
      "source": [
        "!pip install pydub"
      ],
      "metadata": {
        "id": "6OnSThXkQgtj"
      },
      "execution_count": null,
      "outputs": []
    },
    {
      "cell_type": "code",
      "source": [
        "!sudo apt-get install libespeak1"
      ],
      "metadata": {
        "id": "yHICF3TfP7yF"
      },
      "execution_count": null,
      "outputs": []
    },
    {
      "cell_type": "code",
      "source": [
        "import pyttsx3\n",
        "from pydub import AudioSegment\n",
        "\n",
        "def speak_in_syllables(message, output_file):\n",
        "    engine = pyttsx3.init()\n",
        "    engine.setProperty('rate', 150)  # Adjust speech rate (words per minute)\n",
        "    engine.setProperty('volume', 0.9)  # Adjust volume level (0.0 to 1.0)\n",
        "\n",
        "    syllables = message.split()\n",
        "    spoken_text = []\n",
        "    for syllable in syllables:\n",
        "        engine.say(syllable)\n",
        "        spoken_text.append(syllable)\n",
        "    engine.runAndWait()\n",
        "\n",
        "    # Concatenate syllables and save as an MP3 file\n",
        "    spoken_text = ' '.join(spoken_text)\n",
        "    engine.save_to_file(spoken_text, output_file)\n",
        "    engine.runAndWait()\n",
        "\n",
        "if __name__ == \"__main__\":\n",
        "    message = \"Hi, nice to meet you\"\n",
        "    output_file = \"spoken_text.mp3\"\n",
        "    speak_in_syllables(message, output_file)\n",
        "\n"
      ],
      "metadata": {
        "id": "hd7lIm91PuyU"
      },
      "execution_count": null,
      "outputs": []
    }
  ]
}